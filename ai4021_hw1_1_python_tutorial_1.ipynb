{
  "nbformat": 4,
  "nbformat_minor": 0,
  "metadata": {
    "colab": {
      "provenance": [],
      "toc_visible": true
    },
    "kernelspec": {
      "name": "python3",
      "display_name": "Python 3"
    },
    "language_info": {
      "name": "python"
    }
  },
  "cells": [
    {
      "cell_type": "markdown",
      "source": [
        "**Question 1:** Write a Python program that asks the user for their age. If the age is greater than or equal to 18, print \"You are an adult.\" Otherwise, print \"You are a minor.\""
      ],
      "metadata": {
        "id": "6_vl9BFfOXWG"
      }
    },
    {
      "cell_type": "code",
      "source": [
        "age=int(input(\"Enter your age:\"))\n",
        "if age>=18 :\n",
        "  print(\"You are an adult\")\n",
        "else:\n",
        "  print(\"You are a minor\")"
      ],
      "metadata": {
        "colab": {
          "base_uri": "https://localhost:8080/"
        },
        "id": "CAbJIkUPOcQs",
        "outputId": "a6c2fad3-b1d6-42ec-8ab9-568588ff88c2"
      },
      "execution_count": null,
      "outputs": [
        {
          "output_type": "stream",
          "name": "stdout",
          "text": [
            "Enter your age:21\n",
            "You are an adult\n"
          ]
        }
      ]
    },
    {
      "cell_type": "markdown",
      "source": [
        "**Question 2:** Write a Python program to print the numbers from 1 to 10 using a for loop."
      ],
      "metadata": {
        "id": "r_W1sWoQOezD"
      }
    },
    {
      "cell_type": "code",
      "source": [
        "for number in range(1, 11):\n",
        "    print(number)"
      ],
      "metadata": {
        "colab": {
          "base_uri": "https://localhost:8080/"
        },
        "id": "__o_-ZodOhbo",
        "outputId": "378934fe-907e-46be-a008-2126fbc48581"
      },
      "execution_count": null,
      "outputs": [
        {
          "output_type": "stream",
          "name": "stdout",
          "text": [
            "1\n",
            "2\n",
            "3\n",
            "4\n",
            "5\n",
            "6\n",
            "7\n",
            "8\n",
            "9\n",
            "10\n"
          ]
        }
      ]
    },
    {
      "cell_type": "markdown",
      "source": [
        "**Question 3:** Write a Python program to calculate the sum of all even numbers from 1 to 20 using a while loop."
      ],
      "metadata": {
        "id": "2q7OyBe_Oiud"
      }
    },
    {
      "cell_type": "code",
      "source": [
        "sum=0\n",
        "num=0\n",
        "while num<=20:\n",
        "  sum=sum+num\n",
        "  num=num+2\n",
        "print(sum)"
      ],
      "metadata": {
        "colab": {
          "base_uri": "https://localhost:8080/"
        },
        "id": "r3uY0I6GOlB3",
        "outputId": "66415595-db78-48ac-bd48-6fe137be1484"
      },
      "execution_count": null,
      "outputs": [
        {
          "output_type": "stream",
          "name": "stdout",
          "text": [
            "110\n"
          ]
        }
      ]
    },
    {
      "cell_type": "markdown",
      "source": [
        "**Question 4:** Define a function called multiply that takes two parameters and returns their product."
      ],
      "metadata": {
        "id": "YZprv77SOowG"
      }
    },
    {
      "cell_type": "code",
      "source": [
        "def multiply(a,b):\n",
        "  c=a*b\n",
        "  return c\n"
      ],
      "metadata": {
        "id": "6Y0USeerOrUN"
      },
      "execution_count": null,
      "outputs": []
    },
    {
      "cell_type": "markdown",
      "source": [
        "**Question 5:** Create a class called Person with a constructor method that initializes the name and age attributes. Then, create an instance of the Person class and print the person's name and age."
      ],
      "metadata": {
        "id": "0GOwbOCPOtBN"
      }
    },
    {
      "cell_type": "code",
      "source": [
        "class Person:\n",
        "    def __init__(self, name, age):\n",
        "        self.name = name\n",
        "        self.age = age\n",
        "\n",
        "\n",
        "person = Person(\"Alireza Amirian\", 21)\n",
        "print(\"Person's Name:\", person.name)\n",
        "print(\"Person's Age:\", person.age)"
      ],
      "metadata": {
        "colab": {
          "base_uri": "https://localhost:8080/"
        },
        "id": "WcAY-oMeOv1v",
        "outputId": "d0794a19-01b1-4c65-e420-0e8e22087146"
      },
      "execution_count": null,
      "outputs": [
        {
          "output_type": "stream",
          "name": "stdout",
          "text": [
            "Person's Name: Alireza Amirian\n",
            "Person's Age: 21\n"
          ]
        }
      ]
    },
    {
      "cell_type": "markdown",
      "source": [
        "**Question 6:** Create a subclass called `Student` that inherits from the `Person` class. Add an additional attribute called `student_id` to the `Student` class. Create an instance of the `Student` class and print the student's name, age, and student ID."
      ],
      "metadata": {
        "id": "JMq7nrdROxIF"
      }
    },
    {
      "cell_type": "code",
      "source": [
        "class Student(Person):\n",
        "    def __init__(self, name, age, student_id):\n",
        "        super().__init__(name, age)\n",
        "        self.student_id = student_id\n",
        "student = Student(\"Alireza Amirian\", 21, \"9924133\")\n",
        "print(\"Student's Name:\", student.name)\n",
        "print(\"Student's Age:\", student.age)\n",
        "print(\"Student ID:\", student.student_id)\n"
      ],
      "metadata": {
        "colab": {
          "base_uri": "https://localhost:8080/"
        },
        "id": "vpEpTshwO8Xi",
        "outputId": "39c24017-ad22-425d-b037-93caacece71e"
      },
      "execution_count": null,
      "outputs": [
        {
          "output_type": "stream",
          "name": "stdout",
          "text": [
            "Student's Name: Alireza Amirian\n",
            "Student's Age: 21\n",
            "Student ID: 9924133\n"
          ]
        }
      ]
    },
    {
      "cell_type": "markdown",
      "source": [
        "**Question 7:** Write a Python program that prompts the user to enter a number and then prints whether the number is prime or not. Create a function called `is_prime` that takes an integer as an argument and returns True if it's prime, and False otherwise."
      ],
      "metadata": {
        "id": "5TxkMVTOPIRF"
      }
    },
    {
      "cell_type": "code",
      "source": [
        "def is_prime(x):\n",
        "    if x <= 1:\n",
        "        return False\n",
        "    if x <= 3:\n",
        "        return True\n",
        "    if x % 2 == 0 or x % 3 == 0:\n",
        "        return False\n",
        "    i = 5\n",
        "    while i*i <= x:\n",
        "        if x % i == 0:\n",
        "            return False\n",
        "        i += 1\n",
        "    return True\n",
        "\n",
        "user_input = input(\"Enter a number: \")\n",
        "\n",
        "if user_input.isdigit():\n",
        "     x= int(user_input)\n",
        "    if is_prime(x):\n",
        "        print(f\"{x} is a prime number.\")\n",
        "    else:\n",
        "        print(f\"{x} is not a prime number.\")\n",
        "else:\n",
        "    print(\"Invalid input. Please enter a valid integer.\")\n"
      ],
      "metadata": {
        "id": "UELQoZzKPNLm",
        "colab": {
          "base_uri": "https://localhost:8080/"
        },
        "outputId": "05e66e83-d9d4-464b-a8b3-b4a27ec45393"
      },
      "execution_count": null,
      "outputs": [
        {
          "output_type": "stream",
          "name": "stdout",
          "text": [
            "Enter a number: 29\n",
            "29 is a prime number.\n"
          ]
        }
      ]
    },
    {
      "cell_type": "markdown",
      "source": [
        "**Question 8:** Write a Python program that calculates the factorial of a given number using a recursive function. Prompt the user for an integer input and print its factorial."
      ],
      "metadata": {
        "id": "HR0mHW5nPP-l"
      }
    },
    {
      "cell_type": "code",
      "source": [
        "def factorial(n):\n",
        "    if n == 0:\n",
        "        return 1\n",
        "    else:\n",
        "        return n * factorial(n - 1)\n",
        "\n",
        "while True:\n",
        "    user_input = input(\"Enter a non-negative integer: \")\n",
        "\n",
        "    if user_input.isdigit():\n",
        "        y = int(user_input)\n",
        "        if y >= 0:\n",
        "            result = factorial(y)\n",
        "            print(f\"The factorial of {y} is {result}\")\n",
        "            break\n",
        "        else:\n",
        "            print(\"Factorial is not defined for negative numbers.\")\n",
        "    else:\n",
        "        print(\"Invalid input. Please enter a valid non-negative integer.\")\n"
      ],
      "metadata": {
        "id": "gm5j51vlPS4y",
        "colab": {
          "base_uri": "https://localhost:8080/"
        },
        "outputId": "f91ffdf0-6247-44b1-8334-df093f2d2f17"
      },
      "execution_count": null,
      "outputs": [
        {
          "output_type": "stream",
          "name": "stdout",
          "text": [
            "Enter a non-negative integer: 7\n",
            "The factorial of 7 is 5040\n"
          ]
        }
      ]
    },
    {
      "cell_type": "markdown",
      "source": [
        "**Question 9:** Create a class called `Rectangle` with attributes `width` and `height`. Add a method `calculate_area` that calculates and returns the area of the rectangle. Create an instance of the `Rectangle` class and print its area."
      ],
      "metadata": {
        "id": "KgQI1zFkPcRb"
      }
    },
    {
      "cell_type": "code",
      "source": [
        "class Rectangle:\n",
        "    def __init__(self, width, height):\n",
        "        self.width = width\n",
        "        self.height = height\n",
        "\n",
        "    def calculate_area(self):\n",
        "        return self.width * self.height\n",
        "\n",
        "rectangle = Rectangle(5, 8)\n",
        "\n",
        "area = rectangle.calculate_area()\n",
        "print(f\"The area of the rectangle is {area} square units.\")\n"
      ],
      "metadata": {
        "id": "S2yIbrGMPUHN",
        "colab": {
          "base_uri": "https://localhost:8080/"
        },
        "outputId": "fee2ad0b-7989-4a29-ddba-00983bda6dfd"
      },
      "execution_count": null,
      "outputs": [
        {
          "output_type": "stream",
          "name": "stdout",
          "text": [
            "The area of the rectangle is 40 square units.\n"
          ]
        }
      ]
    },
    {
      "cell_type": "markdown",
      "source": [
        "**Question 10:** Create a subclass called `Square` that inherits from the `Rectangle` class. Add a method `calculate_perimeter` to the `Square` class that calculates and returns the perimeter of the square. Create an instance of the `Square` class and print its perimeter."
      ],
      "metadata": {
        "id": "hZJpUWXiPnUy"
      }
    },
    {
      "cell_type": "code",
      "source": [
        "class Square(Rectangle):\n",
        "    def __init__(self, side_length):\n",
        "\n",
        "        super().__init__(side_length, side_length)\n",
        "\n",
        "    def calculate_perimeter(self):\n",
        "        return 4 * self.width\n",
        "\n",
        "square = Square(4)\n",
        "\n",
        "\n",
        "perimeter = square.calculate_perimeter()\n",
        "print(f\"The perimeter of the square is {perimeter} units.\")"
      ],
      "metadata": {
        "id": "rrvDKau6Prgv",
        "colab": {
          "base_uri": "https://localhost:8080/"
        },
        "outputId": "d1071e8a-be42-4003-d8b6-0a726d290531"
      },
      "execution_count": null,
      "outputs": [
        {
          "output_type": "stream",
          "name": "stdout",
          "text": [
            "The perimeter of the square is 16 units.\n"
          ]
        }
      ]
    },
    {
      "cell_type": "markdown",
      "source": [
        "**Question 11:** Create a base class called `Animal` with attributes `name` and `species`. Provide a constructor to initialize these attributes and a method called `speak` that prints a generic message like \"The animal makes a sound.\""
      ],
      "metadata": {
        "id": "bAvC4oKdPySI"
      }
    },
    {
      "cell_type": "code",
      "source": [
        "class Animal:\n",
        "    def __init__(self, name, species):\n",
        "        self.name = name\n",
        "        self.species = species\n",
        "\n",
        "    def speak(self):\n",
        "        print(\"The animal makes a sound.\")\n",
        "\n",
        "animal = Animal(\"Leo\", \"Lion\")\n",
        "\n",
        "animal.speak()\n"
      ],
      "metadata": {
        "id": "ReV5Ul0ZP-n7",
        "colab": {
          "base_uri": "https://localhost:8080/"
        },
        "outputId": "013e020f-6452-42a9-f547-4fd046bcee78"
      },
      "execution_count": null,
      "outputs": [
        {
          "output_type": "stream",
          "name": "stdout",
          "text": [
            "The animal makes a sound.\n"
          ]
        }
      ]
    },
    {
      "cell_type": "markdown",
      "source": [
        "**Question 12:** Create a subclass called `Dog` that inherits from the `Animal` class. Add a constructor to initialize the `name`, `species`, and `breed` attributes specific to dogs. Override the `speak` method in the `Dog` class to print \"Woof!\""
      ],
      "metadata": {
        "id": "B27SF_YbQANC"
      }
    },
    {
      "cell_type": "code",
      "source": [
        "\n",
        "class Dog(Animal):\n",
        "    def __init__(self, name, breed):\n",
        "        super().__init__(name, species=\"Dog\")\n",
        "        self.breed = breed\n",
        "\n",
        "    def speak(self):\n",
        "        print(f\"{self.name} the {self.breed} says Woof!\")\n",
        "\n",
        "dog = Dog(\"Buddy\", \"chihuahua\")\n",
        "\n",
        "dog.speak()"
      ],
      "metadata": {
        "id": "3Gn8dy-QQIGA",
        "colab": {
          "base_uri": "https://localhost:8080/"
        },
        "outputId": "b3f4fecb-99d0-4c76-ed58-319700319c4d"
      },
      "execution_count": null,
      "outputs": [
        {
          "output_type": "stream",
          "name": "stdout",
          "text": [
            "Buddy the chihuahua says Woof!\n"
          ]
        }
      ]
    },
    {
      "cell_type": "markdown",
      "source": [
        "**Question 13:** Create another subclass called `Cat` that inherits from the `Animal` class. Add a constructor to initialize the `name`, `species`, and `color` attributes specific to cats. Override the `speak` method in the `Cat` class to print \"Meow!\""
      ],
      "metadata": {
        "id": "evEYwP3GQKHU"
      }
    },
    {
      "cell_type": "code",
      "source": [
        "\n",
        "class Cat(Animal):\n",
        "    def __init__(self, name, color):\n",
        "        super().__init__(name, species=\"Cat\")\n",
        "        self.color = color\n",
        "\n",
        "    def speak(self):\n",
        "        print(f\"{self.name} the {self.color} cat says Meow!\")\n",
        "\n",
        "cat = Cat(\"Whiskers\", \"Gray\")\n",
        "\n",
        "cat.speak()"
      ],
      "metadata": {
        "id": "OOuq8AP2QT9W",
        "colab": {
          "base_uri": "https://localhost:8080/"
        },
        "outputId": "1b89aa61-1fd4-48f3-ec17-8b7c5b77956d"
      },
      "execution_count": null,
      "outputs": [
        {
          "output_type": "stream",
          "name": "stdout",
          "text": [
            "Whiskers the Gray cat says Meow!\n"
          ]
        }
      ]
    },
    {
      "cell_type": "markdown",
      "source": [
        "**Question 14:** Create instances of both the `Dog` and `Cat` classes and call their `speak` methods to demonstrate polymorphism."
      ],
      "metadata": {
        "id": "FPiIuweTQU0D"
      }
    },
    {
      "cell_type": "code",
      "source": [
        "class Animal:\n",
        "    def __init__(self, name, species):\n",
        "        self.name = name\n",
        "        self.species = species\n",
        "\n",
        "    def speak(self):\n",
        "        print(\"The animal makes a sound.\")\n",
        "\n",
        "class Dog(Animal):\n",
        "    def __init__(self, name, breed):\n",
        "        super().__init__(name, species=\"Dog\")\n",
        "        self.breed = breed\n",
        "\n",
        "    def speak(self):\n",
        "        print(f\"{self.name} the {self.breed} says Woof!\")\n",
        "\n",
        "class Cat(Animal):\n",
        "    def __init__(self, name, color):\n",
        "        super().__init__(name, species=\"Cat\")\n",
        "        self.color = color\n",
        "\n",
        "    def speak(self):\n",
        "        print(f\"{self.name} the {self.color} cat says Meow!\")\n",
        "\n",
        "dog = Dog(\"Buddy\", \"chihuahua\")\n",
        "cat = Cat(\"Whiskers\", \"Gray\")\n",
        "\n",
        "dog.speak()\n",
        "cat.speak()\n"
      ],
      "metadata": {
        "id": "YmUNsj72QZ4z",
        "colab": {
          "base_uri": "https://localhost:8080/"
        },
        "outputId": "978323da-1896-470e-feab-ee6f44b608ad"
      },
      "execution_count": null,
      "outputs": [
        {
          "output_type": "stream",
          "name": "stdout",
          "text": [
            "Buddy the chihuahua says Woof!\n",
            "Whiskers the Gray cat says Meow!\n"
          ]
        }
      ]
    }
  ]
}